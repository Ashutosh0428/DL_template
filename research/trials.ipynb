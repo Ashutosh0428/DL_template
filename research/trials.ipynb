{
 "cells": [
  {
   "cell_type": "code",
   "execution_count": null,
   "metadata": {},
   "outputs": [],
   "source": []
  }
 ],
 "metadata": {
  "kernelspec": {
   "display_name": "Python 3.8.13 (conda)",
   "language": "python",
   "name": "python3"
  },
  "language_info": {
   "name": "python",
   "version": "3.8.13"
  },
  "orig_nbformat": 4,
  "vscode": {
   "interpreter": {
    "hash": "95a3a3e188df5823f720f1bcbd7da8b37984c46c0e973574c96ce41458844033"
   }
  }
 },
 "nbformat": 4,
 "nbformat_minor": 2
}
